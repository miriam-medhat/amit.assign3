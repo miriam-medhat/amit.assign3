{
 "cells": [
  {
   "cell_type": "markdown",
   "metadata": {
    "id": "Ui8LKXjlii3V"
   },
   "source": [
    "### 1) Write a program to print the maximum between two numbers. (one-line conditional statement)\n"
   ]
  },
  {
   "cell_type": "code",
   "execution_count": 5,
   "metadata": {},
   "outputs": [
    {
     "name": "stdout",
     "output_type": "stream",
     "text": [
      "10\n"
     ]
    }
   ],
   "source": [
    "a = 5\n",
    "b = 10\n",
    "max = a if a > b else b \n",
    "print(max)"
   ]
  },
  {
   "cell_type": "markdown",
   "metadata": {
    "id": "xQB_yP4rirZS"
   },
   "source": [
    "### 2) Write a program to find the maximum between three numbers.\n"
   ]
  },
  {
   "cell_type": "code",
   "execution_count": 4,
   "metadata": {},
   "outputs": [
    {
     "name": "stdout",
     "output_type": "stream",
     "text": [
      "10\n"
     ]
    }
   ],
   "source": [
    "a = 5\n",
    "b = 8\n",
    "c = 10\n",
    "max = a if a > b and a > c else (b if b > a and b > c else c )\n",
    "print(max)"
   ]
  },
  {
   "cell_type": "markdown",
   "metadata": {
    "id": "di3xEq8mjBRK"
   },
   "source": [
    "### 3) Write a program to check whether a number is negative, or positive \n"
   ]
  },
  {
   "cell_type": "code",
   "execution_count": 7,
   "metadata": {},
   "outputs": [
    {
     "name": "stdout",
     "output_type": "stream",
     "text": [
      "positive\n"
     ]
    }
   ],
   "source": [
    "x = 3\n",
    "print(\"positive\" if x > 0 else \"negative\")"
   ]
  },
  {
   "cell_type": "markdown",
   "metadata": {
    "id": "grc5Gk_RjFBe"
   },
   "source": [
    "### 4) Write a  program to check whether a number is even or odd \n"
   ]
  },
  {
   "cell_type": "code",
   "execution_count": 8,
   "metadata": {},
   "outputs": [
    {
     "name": "stdout",
     "output_type": "stream",
     "text": [
      "odd\n"
     ]
    }
   ],
   "source": [
    "x = 7\n",
    "print(\"even\" if x%2 == 0 else \"odd\")"
   ]
  },
  {
   "cell_type": "markdown",
   "metadata": {
    "id": "JeN4yaIMjNlC"
   },
   "source": [
    "### 5) Write a  program to store the weekdays in a list and access the week day and print it by index.\n"
   ]
  },
  {
   "cell_type": "code",
   "execution_count": 9,
   "metadata": {},
   "outputs": [
    {
     "name": "stdout",
     "output_type": "stream",
     "text": [
      "thursday\n"
     ]
    }
   ],
   "source": [
    "weekdays = [\"sunday\", \"monday\", \"tuesday\", \"wednesday\", \"thursday\", \"friday\", \"saturday\"]\n",
    "day = weekdays[4]\n",
    "print(day)"
   ]
  },
  {
   "cell_type": "markdown",
   "metadata": {
    "id": "PkPPTrivjran"
   },
   "source": [
    "### 6)Write a program to store numbers in the List and print its reverse"
   ]
  },
  {
   "cell_type": "code",
   "execution_count": 10,
   "metadata": {},
   "outputs": [
    {
     "name": "stdout",
     "output_type": "stream",
     "text": [
      "[5, 4, 3, 2, 1]\n"
     ]
    }
   ],
   "source": [
    "lst = [1,2,3,4,5]\n",
    "lst.reverse()\n",
    "print(lst)"
   ]
  },
  {
   "cell_type": "markdown",
   "metadata": {
    "id": "2JoHNIaCj7fR"
   },
   "source": [
    "### 7) Write a program to print the multiplcation table of any number"
   ]
  },
  {
   "cell_type": "code",
   "execution_count": 11,
   "metadata": {},
   "outputs": [
    {
     "name": "stdin",
     "output_type": "stream",
     "text": [
      "enter a number:  2\n"
     ]
    },
    {
     "name": "stdout",
     "output_type": "stream",
     "text": [
      "2x0=0\n",
      "2x1=2\n",
      "2x2=4\n",
      "2x3=6\n",
      "2x4=8\n",
      "2x5=10\n",
      "2x6=12\n",
      "2x7=14\n",
      "2x8=16\n",
      "2x9=18\n",
      "2x10=20\n"
     ]
    }
   ],
   "source": [
    "x = int(input(\"enter a number: \"))\n",
    "y = 0\n",
    "while y <= 10:\n",
    "    print(f\"{x}x{y}={x * y}\")\n",
    "    y+=1"
   ]
  },
  {
   "cell_type": "markdown",
   "metadata": {
    "id": "WTIX9yh1kLs-"
   },
   "source": [
    "### 8) Write a program to print all even numbers between 1 to 100.(using while loop and for loop)"
   ]
  },
  {
   "cell_type": "code",
   "execution_count": 15,
   "metadata": {},
   "outputs": [
    {
     "name": "stdout",
     "output_type": "stream",
     "text": [
      "0\n",
      "2\n",
      "4\n",
      "6\n",
      "8\n",
      "10\n",
      "12\n",
      "14\n",
      "16\n",
      "18\n",
      "20\n",
      "22\n",
      "24\n",
      "26\n",
      "28\n",
      "30\n",
      "32\n",
      "34\n",
      "36\n",
      "38\n",
      "40\n",
      "42\n",
      "44\n",
      "46\n",
      "48\n",
      "50\n",
      "52\n",
      "54\n",
      "56\n",
      "58\n",
      "60\n",
      "62\n",
      "64\n",
      "66\n",
      "68\n",
      "70\n",
      "72\n",
      "74\n",
      "76\n",
      "78\n",
      "80\n",
      "82\n",
      "84\n",
      "86\n",
      "88\n",
      "90\n",
      "92\n",
      "94\n",
      "96\n",
      "98\n",
      "100\n"
     ]
    }
   ],
   "source": [
    "i = 0\n",
    "while i <= 100:\n",
    "    if i%2 == 0:\n",
    "        print(i)\n",
    "    else:\n",
    "        pass\n",
    "    i+=1\n",
    "\n",
    "for x in range(101):\n",
    "    if x%2 == 0:\n",
    "        print(x)\n",
    "    else:\n",
    "        pass"
   ]
  },
  {
   "cell_type": "markdown",
   "metadata": {},
   "source": [
    "#1. Write a Python program to add an item to a tuple."
   ]
  },
  {
   "cell_type": "code",
   "execution_count": 32,
   "metadata": {},
   "outputs": [
    {
     "name": "stdout",
     "output_type": "stream",
     "text": [
      "(1, 2, 3, 4, 5, 6)\n"
     ]
    }
   ],
   "source": [
    "tup = (1,2,3,4,5)\n",
    "item = 6\n",
    "lst = list(tup)\n",
    "lst.append(item)\n",
    "print(tuple(lst))"
   ]
  },
  {
   "cell_type": "markdown",
   "metadata": {},
   "source": [
    "#2. Write a Python program to sum all the items in a list."
   ]
  },
  {
   "cell_type": "code",
   "execution_count": 2,
   "metadata": {},
   "outputs": [
    {
     "name": "stdout",
     "output_type": "stream",
     "text": [
      "21\n"
     ]
    }
   ],
   "source": [
    "lst1 = [1,2,3,4,5,6]\n",
    "sum = 0\n",
    "for x in range(len(lst1)):\n",
    "    sum += lst1[x]\n",
    "print(sum)"
   ]
  },
  {
   "cell_type": "markdown",
   "metadata": {},
   "source": [
    "#3. Write a Python program to multiply all the items in a list."
   ]
  },
  {
   "cell_type": "code",
   "execution_count": 3,
   "metadata": {},
   "outputs": [
    {
     "name": "stdout",
     "output_type": "stream",
     "text": [
      "720\n"
     ]
    }
   ],
   "source": [
    "lst2 = [1,2,3,4,5,6]\n",
    "multi = 1\n",
    "for i in range(len(lst2)):\n",
    "    multi *= lst2[i]\n",
    "print(multi)"
   ]
  },
  {
   "cell_type": "markdown",
   "metadata": {},
   "source": [
    "#4. Write a Python program to get the smallest number from a list."
   ]
  },
  {
   "cell_type": "code",
   "execution_count": 24,
   "metadata": {},
   "outputs": [
    {
     "name": "stdout",
     "output_type": "stream",
     "text": [
      "1\n"
     ]
    }
   ],
   "source": [
    "lst1 = [1,2,3,4,5,6]\n",
    "print(min(lst1))"
   ]
  },
  {
   "cell_type": "markdown",
   "metadata": {},
   "source": [
    "#5. Write a Python program to get the largest number from a list."
   ]
  },
  {
   "cell_type": "code",
   "execution_count": 25,
   "metadata": {},
   "outputs": [
    {
     "name": "stdout",
     "output_type": "stream",
     "text": [
      "6\n"
     ]
    }
   ],
   "source": [
    "lst1 = [1,2,3,4,5,6]\n",
    "print(max(lst1))"
   ]
  },
  {
   "cell_type": "markdown",
   "metadata": {},
   "source": [
    "#6. Write a Python program to count the number of strings from a given list of strings."
   ]
  },
  {
   "cell_type": "code",
   "execution_count": 19,
   "metadata": {},
   "outputs": [
    {
     "name": "stdout",
     "output_type": "stream",
     "text": [
      "3\n"
     ]
    }
   ],
   "source": [
    "lst4 = [\"hi\", \"abc\", \"xyz\"]\n",
    "print(len(lst4))"
   ]
  },
  {
   "cell_type": "markdown",
   "metadata": {},
   "source": [
    "#7. Write a Python program to clone or copy a list."
   ]
  },
  {
   "cell_type": "code",
   "execution_count": 4,
   "metadata": {},
   "outputs": [
    {
     "name": "stdout",
     "output_type": "stream",
     "text": [
      "[0, 1, 2, 3, 4, 5]\n"
     ]
    }
   ],
   "source": [
    "li = [0,1,2,3,4,5]\n",
    "c_li = []\n",
    "c_li.extend(li)\n",
    "print(c_li)"
   ]
  },
  {
   "cell_type": "markdown",
   "metadata": {},
   "source": [
    "#8. Write a Python program to remove item(s) from a given set."
   ]
  },
  {
   "cell_type": "code",
   "execution_count": null,
   "metadata": {},
   "outputs": [],
   "source": []
  },
  {
   "cell_type": "markdown",
   "metadata": {},
   "source": [
    "#9. Write a Python program to check if a set is a subset of another set."
   ]
  },
  {
   "cell_type": "code",
   "execution_count": 5,
   "metadata": {},
   "outputs": [
    {
     "name": "stdout",
     "output_type": "stream",
     "text": [
      "True\n"
     ]
    }
   ],
   "source": [
    "a = {1,2,3}\n",
    "b = {1,2,3,4,5}\n",
    "print(a.issubset(b))"
   ]
  },
  {
   "cell_type": "markdown",
   "metadata": {},
   "source": [
    "#10. Write a Python program to remove all elements from a given set."
   ]
  },
  {
   "cell_type": "code",
   "execution_count": 2,
   "metadata": {},
   "outputs": [
    {
     "name": "stdout",
     "output_type": "stream",
     "text": [
      "set()\n"
     ]
    }
   ],
   "source": [
    "sets = {1,5,4,0,2,3}\n",
    "sets.clear()\n",
    "print(sets)"
   ]
  },
  {
   "cell_type": "markdown",
   "metadata": {},
   "source": [
    "#11. Write a Python program to find the maximum and minimum values in a set."
   ]
  },
  {
   "cell_type": "code",
   "execution_count": 22,
   "metadata": {},
   "outputs": [
    {
     "name": "stdout",
     "output_type": "stream",
     "text": [
      "5\n",
      "0\n"
     ]
    }
   ],
   "source": [
    "sets = {1,5,4,0,2,3}\n",
    "print(max(sets))\n",
    "print(min(sets))"
   ]
  },
  {
   "cell_type": "markdown",
   "metadata": {},
   "source": [
    "#12. Write a Python program to find the index of an item in a tuple."
   ]
  },
  {
   "cell_type": "code",
   "execution_count": 18,
   "metadata": {},
   "outputs": [
    {
     "name": "stdout",
     "output_type": "stream",
     "text": [
      "2\n"
     ]
    }
   ],
   "source": [
    "tup = (\"a\", \"b\", \"c\", \"d\")\n",
    "item = tup.index(\"c\")\n",
    "print(item)"
   ]
  },
  {
   "cell_type": "markdown",
   "metadata": {},
   "source": [
    "#13. Write a Python program to convert a tuple to a dictionary."
   ]
  },
  {
   "cell_type": "code",
   "execution_count": 10,
   "metadata": {},
   "outputs": [
    {
     "name": "stdout",
     "output_type": "stream",
     "text": [
      "{'a': 1, 'b': 2}\n"
     ]
    }
   ],
   "source": [
    "tup1 = ((\"a\",1), (\"b\",2))\n",
    "dict1 = dict((x,y) for x,y in tup1)\n",
    "print(dict1)"
   ]
  },
  {
   "cell_type": "markdown",
   "metadata": {},
   "source": [
    "#14. Write a Python program to unzip a list of tuples into individual lists."
   ]
  },
  {
   "cell_type": "code",
   "execution_count": 16,
   "metadata": {},
   "outputs": [
    {
     "name": "stdout",
     "output_type": "stream",
     "text": [
      "[['a', 'c'], ['b', 'd']]\n"
     ]
    }
   ],
   "source": [
    "lst = [(\"a\", \"b\"), (\"c\", \"d\")]\n",
    "unzipped = [[x for x,y in lst], [y for x,y in lst]]\n",
    "print(unzipped)"
   ]
  },
  {
   "cell_type": "markdown",
   "metadata": {},
   "source": [
    "#15. Write a Python program to reverse a tuple."
   ]
  },
  {
   "cell_type": "code",
   "execution_count": 34,
   "metadata": {},
   "outputs": [
    {
     "name": "stdout",
     "output_type": "stream",
     "text": [
      "(5, 4, 3, 2, 1)\n"
     ]
    }
   ],
   "source": [
    "tup = (1,2,3,4,5)\n",
    "lst3 = list(tup)\n",
    "lst3.reverse()\n",
    "print(tuple(lst3))"
   ]
  },
  {
   "cell_type": "markdown",
   "metadata": {},
   "source": [
    "#16. Write a Python program to convert a list of tuples into a dictionary."
   ]
  },
  {
   "cell_type": "code",
   "execution_count": 9,
   "metadata": {},
   "outputs": [
    {
     "name": "stdout",
     "output_type": "stream",
     "text": [
      "{'a': 1, 'b': 2, 'c': 3}\n"
     ]
    }
   ],
   "source": [
    "tuplst = [(\"a\",1), (\"b\",2), (\"c\",3)]\n",
    "diction = {}\n",
    "for x,y in tuplst:\n",
    "    diction = dict(tuplst)\n",
    "print(diction)"
   ]
  },
  {
   "cell_type": "markdown",
   "metadata": {},
   "source": [
    "#17. Write a Python program to replace the last value of tuples in a list.\n",
    "\n",
    "            Sample list: [(10, 20, 40), (40, 50, 60), (70, 80, 90)]\n",
    "            Expected Output: [(10, 20, 100), (40, 50, 100), (70, 80, 100)]"
   ]
  },
  {
   "cell_type": "code",
   "execution_count": 29,
   "metadata": {},
   "outputs": [
    {
     "name": "stdout",
     "output_type": "stream",
     "text": [
      "[(10, 20, 100), (40, 50, 100), (70, 80, 100)]\n"
     ]
    }
   ],
   "source": [
    "samp = [(10, 20, 40), (40, 50, 60), (70, 80, 90)]\n",
    "newlst = []\n",
    "for x,y,z in samp:\n",
    "    newlst.append((x,y,100))\n",
    "print(newlst)"
   ]
  },
  {
   "cell_type": "markdown",
   "metadata": {},
   "source": [
    "#18. Write a Python program to sort a tuple by its float element."
   ]
  },
  {
   "cell_type": "code",
   "execution_count": null,
   "metadata": {},
   "outputs": [],
   "source": []
  }
 ],
 "metadata": {
  "colab": {
   "private_outputs": true,
   "provenance": []
  },
  "kernelspec": {
   "display_name": "Python 3 (ipykernel)",
   "language": "python",
   "name": "python3"
  },
  "language_info": {
   "codemirror_mode": {
    "name": "ipython",
    "version": 3
   },
   "file_extension": ".py",
   "mimetype": "text/x-python",
   "name": "python",
   "nbconvert_exporter": "python",
   "pygments_lexer": "ipython3",
   "version": "3.12.4"
  }
 },
 "nbformat": 4,
 "nbformat_minor": 4
}
